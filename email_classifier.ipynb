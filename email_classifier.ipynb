{
 "cells": [
  {
   "cell_type": "code",
   "execution_count": 1,
   "metadata": {},
   "outputs": [
    {
     "name": "stdout",
     "output_type": "stream",
     "text": [
      "skipped 2248.2004-09-23.GP.spam.txt\n",
      "skipped 2526.2004-10-17.GP.spam.txt\n",
      "skipped 2698.2004-10-31.GP.spam.txt\n",
      "skipped 4566.2005-05-24.GP.spam.txt\n"
     ]
    }
   ],
   "source": [
    "import pandas as pd\n",
    "import os\n",
    "\n",
    "def read_spam():\n",
    "    category = 'spam'\n",
    "    directory = './enron1/spam'\n",
    "    return read_category(category, directory)\n",
    "\n",
    "def read_ham():\n",
    "    category = 'ham'\n",
    "    directory = './enron1/ham'\n",
    "    return read_category(category, directory)\n",
    "\n",
    "def read_category(category, directory):\n",
    "    emails = []\n",
    "    for filename in os.listdir(directory):\n",
    "        if not filename.endswith(\".txt\"):\n",
    "            continue\n",
    "        with open(os.path.join(directory, filename), 'r') as fp:\n",
    "            try:\n",
    "                content = fp.read()\n",
    "                emails.append({'name': filename, 'content': content, 'category': category})\n",
    "            except:\n",
    "                print(f'skipped {filename}')\n",
    "    return emails\n",
    "\n",
    "ham = read_ham()\n",
    "spam = read_spam()\n",
    "\n",
    "dfham = pd.DataFrame.from_records(ham)\n",
    "dfspam = pd.DataFrame.from_records(spam)\n",
    "df = pd.concat([dfham,dfspam])"
   ]
  },
  {
   "cell_type": "code",
   "execution_count": 2,
   "metadata": {},
   "outputs": [
    {
     "data": {
      "text/html": [
       "<div>\n",
       "<style scoped>\n",
       "    .dataframe tbody tr th:only-of-type {\n",
       "        vertical-align: middle;\n",
       "    }\n",
       "\n",
       "    .dataframe tbody tr th {\n",
       "        vertical-align: top;\n",
       "    }\n",
       "\n",
       "    .dataframe thead th {\n",
       "        text-align: right;\n",
       "    }\n",
       "</style>\n",
       "<table border=\"1\" class=\"dataframe\">\n",
       "  <thead>\n",
       "    <tr style=\"text-align: right;\">\n",
       "      <th></th>\n",
       "      <th>name</th>\n",
       "      <th>content</th>\n",
       "      <th>category</th>\n",
       "    </tr>\n",
       "  </thead>\n",
       "  <tbody>\n",
       "    <tr>\n",
       "      <th>0</th>\n",
       "      <td>0001.1999-12-10.farmer.ham.txt</td>\n",
       "      <td>Subject: christmas tree farm pictures\\n</td>\n",
       "      <td>ham</td>\n",
       "    </tr>\n",
       "    <tr>\n",
       "      <th>1</th>\n",
       "      <td>0002.1999-12-13.farmer.ham.txt</td>\n",
       "      <td>Subject: vastar resources , inc .\\ngary , prod...</td>\n",
       "      <td>ham</td>\n",
       "    </tr>\n",
       "    <tr>\n",
       "      <th>2</th>\n",
       "      <td>0003.1999-12-14.farmer.ham.txt</td>\n",
       "      <td>Subject: calpine daily gas nomination\\n- calpi...</td>\n",
       "      <td>ham</td>\n",
       "    </tr>\n",
       "    <tr>\n",
       "      <th>3</th>\n",
       "      <td>0004.1999-12-14.farmer.ham.txt</td>\n",
       "      <td>Subject: re : issue\\nfyi - see note below - al...</td>\n",
       "      <td>ham</td>\n",
       "    </tr>\n",
       "    <tr>\n",
       "      <th>4</th>\n",
       "      <td>0005.1999-12-14.farmer.ham.txt</td>\n",
       "      <td>Subject: meter 7268 nov allocation\\nfyi .\\n- -...</td>\n",
       "      <td>ham</td>\n",
       "    </tr>\n",
       "    <tr>\n",
       "      <th>...</th>\n",
       "      <td>...</td>\n",
       "      <td>...</td>\n",
       "      <td>...</td>\n",
       "    </tr>\n",
       "    <tr>\n",
       "      <th>1491</th>\n",
       "      <td>5163.2005-09-06.GP.spam.txt</td>\n",
       "      <td>Subject: our pro - forma invoice attached\\ndiv...</td>\n",
       "      <td>spam</td>\n",
       "    </tr>\n",
       "    <tr>\n",
       "      <th>1492</th>\n",
       "      <td>5164.2005-09-06.GP.spam.txt</td>\n",
       "      <td>Subject: str _ rndlen ( 2 - 4 ) } { extra _ ti...</td>\n",
       "      <td>spam</td>\n",
       "    </tr>\n",
       "    <tr>\n",
       "      <th>1493</th>\n",
       "      <td>5167.2005-09-06.GP.spam.txt</td>\n",
       "      <td>Subject: check me out !\\n61 bb\\nhey derm\\nbbbb...</td>\n",
       "      <td>spam</td>\n",
       "    </tr>\n",
       "    <tr>\n",
       "      <th>1494</th>\n",
       "      <td>5170.2005-09-06.GP.spam.txt</td>\n",
       "      <td>Subject: hot jobs\\nglobal marketing specialtie...</td>\n",
       "      <td>spam</td>\n",
       "    </tr>\n",
       "    <tr>\n",
       "      <th>1495</th>\n",
       "      <td>5171.2005-09-06.GP.spam.txt</td>\n",
       "      <td>Subject: save up to 89 % on ink + no shipping ...</td>\n",
       "      <td>spam</td>\n",
       "    </tr>\n",
       "  </tbody>\n",
       "</table>\n",
       "<p>5168 rows × 3 columns</p>\n",
       "</div>"
      ],
      "text/plain": [
       "                                name  \\\n",
       "0     0001.1999-12-10.farmer.ham.txt   \n",
       "1     0002.1999-12-13.farmer.ham.txt   \n",
       "2     0003.1999-12-14.farmer.ham.txt   \n",
       "3     0004.1999-12-14.farmer.ham.txt   \n",
       "4     0005.1999-12-14.farmer.ham.txt   \n",
       "...                              ...   \n",
       "1491     5163.2005-09-06.GP.spam.txt   \n",
       "1492     5164.2005-09-06.GP.spam.txt   \n",
       "1493     5167.2005-09-06.GP.spam.txt   \n",
       "1494     5170.2005-09-06.GP.spam.txt   \n",
       "1495     5171.2005-09-06.GP.spam.txt   \n",
       "\n",
       "                                                content category  \n",
       "0               Subject: christmas tree farm pictures\\n      ham  \n",
       "1     Subject: vastar resources , inc .\\ngary , prod...      ham  \n",
       "2     Subject: calpine daily gas nomination\\n- calpi...      ham  \n",
       "3     Subject: re : issue\\nfyi - see note below - al...      ham  \n",
       "4     Subject: meter 7268 nov allocation\\nfyi .\\n- -...      ham  \n",
       "...                                                 ...      ...  \n",
       "1491  Subject: our pro - forma invoice attached\\ndiv...     spam  \n",
       "1492  Subject: str _ rndlen ( 2 - 4 ) } { extra _ ti...     spam  \n",
       "1493  Subject: check me out !\\n61 bb\\nhey derm\\nbbbb...     spam  \n",
       "1494  Subject: hot jobs\\nglobal marketing specialtie...     spam  \n",
       "1495  Subject: save up to 89 % on ink + no shipping ...     spam  \n",
       "\n",
       "[5168 rows x 3 columns]"
      ]
     },
     "execution_count": 2,
     "metadata": {},
     "output_type": "execute_result"
    }
   ],
   "source": [
    "df"
   ]
  },
  {
   "cell_type": "code",
   "execution_count": 3,
   "metadata": {},
   "outputs": [
    {
     "data": {
      "text/plain": [
       "category\n",
       "ham     3672\n",
       "spam    1496\n",
       "Name: count, dtype: int64"
      ]
     },
     "execution_count": 3,
     "metadata": {},
     "output_type": "execute_result"
    }
   ],
   "source": [
    "df['category'].value_counts()"
   ]
  },
  {
   "cell_type": "code",
   "execution_count": null,
   "metadata": {},
   "outputs": [],
   "source": [
    "import re\n",
    "\n",
    "def preprocessor(e):\n",
    "    e = re.sub(r'[^a-zA-Z0-9]', ' ', e) \n",
    "    e = e.lower()\n",
    "    e = re.sub(r'\\s+', ' ', e)  \n",
    "    return e"
   ]
  },
  {
   "cell_type": "code",
   "execution_count": 5,
   "metadata": {},
   "outputs": [
    {
     "name": "stderr",
     "output_type": "stream",
     "text": [
      "C:\\Users\\shard\\AppData\\Local\\Temp\\ipykernel_21288\\2707859677.py:3: FutureWarning: Downcasting behavior in `replace` is deprecated and will be removed in a future version. To retain the old behavior, explicitly call `result.infer_objects(copy=False)`. To opt-in to the future behavior, set `pd.set_option('future.no_silent_downcasting', True)`\n",
      "  df['category'] = df['category'].replace({'ham': 0, 'spam': 1})\n"
     ]
    }
   ],
   "source": [
    "#Prepocessing the columns\n",
    "df['content']=df['content'].apply(preprocessor)\n",
    "df['category'] = df['category'].replace({'ham': 0, 'spam': 1})"
   ]
  },
  {
   "cell_type": "code",
   "execution_count": null,
   "metadata": {},
   "outputs": [],
   "source": [
    "from sklearn.feature_extraction.text import CountVectorizer\n",
    "from sklearn.model_selection import train_test_split\n",
    "from sklearn.linear_model import LogisticRegression\n",
    "from sklearn.metrics import accuracy_score, confusion_matrix, classification_report\n",
    "\n",
    "cv= CountVectorizer(preprocessor=preprocessor)\n"
   ]
  },
  {
   "cell_type": "code",
   "execution_count": 28,
   "metadata": {},
   "outputs": [
    {
     "data": {
      "text/plain": [
       "(5168, 45738)"
      ]
     },
     "execution_count": 28,
     "metadata": {},
     "output_type": "execute_result"
    }
   ],
   "source": [
    "\n",
    "X = cv.fit_transform(df['content']).toarray()\n",
    "X.shape"
   ]
  },
  {
   "cell_type": "code",
   "execution_count": 29,
   "metadata": {},
   "outputs": [
    {
     "data": {
      "text/plain": [
       "array([0, 0, 0, ..., 1, 1, 1])"
      ]
     },
     "execution_count": 29,
     "metadata": {},
     "output_type": "execute_result"
    }
   ],
   "source": [
    "y = df['category'].values\n",
    "y"
   ]
  },
  {
   "cell_type": "code",
   "execution_count": 30,
   "metadata": {},
   "outputs": [],
   "source": [
    "X_train,X_test,y_train,y_test=train_test_split(X,y,test_size=0.2,random_state=3)\n",
    "\n",
    "clf = LogisticRegression(random_state=3)\n",
    "clf.fit(X_train, y_train)\n",
    "\n",
    "y_pred = clf.predict(X_test)\n",
    "\n"
   ]
  },
  {
   "cell_type": "code",
   "execution_count": 31,
   "metadata": {},
   "outputs": [
    {
     "name": "stdout",
     "output_type": "stream",
     "text": [
      "Model accuracy (in %): 97.48549323017409\n"
     ]
    }
   ],
   "source": [
    "acc = accuracy_score(y_test, y_pred)\n",
    "print(\"Model accuracy (in %):\", acc*100)"
   ]
  },
  {
   "cell_type": "code",
   "execution_count": 11,
   "metadata": {},
   "outputs": [
    {
     "data": {
      "image/png": "[encoded data removed]",
      "text/plain": [
       "<Figure size 640x480 with 2 Axes>"
      ]
     },
     "metadata": {},
     "output_type": "display_data"
    }
   ],
   "source": [
    "import seaborn as sns\n",
    "import matplotlib.pyplot as plt\n",
    "\n",
    "cfm = confusion_matrix(y_test,y_pred)\n",
    "sns.heatmap(cfm, \n",
    "            annot=True,\n",
    "            fmt='g', \n",
    "            xticklabels=['ham','spam'],\n",
    "            yticklabels=['ham','spam'])\n",
    "plt.ylabel('Actual', fontsize=13)\n",
    "plt.title('Confusion Matrix', fontsize=17, pad=20)\n",
    "plt.gca().xaxis.set_label_position('top') \n",
    "plt.xlabel('Prediction', fontsize=13)\n",
    "plt.gca().xaxis.tick_top()\n",
    "\n",
    "plt.gca().figure.subplots_adjust(bottom=0.2)\n",
    "plt.gca().figure.text(0.5, 0.05, 'Prediction', ha='center', fontsize=13)\n",
    "plt.show()"
   ]
  },
  {
   "cell_type": "code",
   "execution_count": 12,
   "metadata": {},
   "outputs": [
    {
     "name": "stdout",
     "output_type": "stream",
     "text": [
      "              precision    recall  f1-score   support\n",
      "\n",
      "           0       0.99      0.98      0.98       744\n",
      "           1       0.94      0.97      0.96       290\n",
      "\n",
      "    accuracy                           0.97      1034\n",
      "   macro avg       0.96      0.97      0.97      1034\n",
      "weighted avg       0.98      0.97      0.97      1034\n",
      "\n"
     ]
    }
   ],
   "source": [
    "print(classification_report(y_test,y_pred))"
   ]
  },
  {
   "cell_type": "code",
   "execution_count": 32,
   "metadata": {},
   "outputs": [
    {
     "data": {
      "text/plain": [
       "['logistic_regression_model.joblib']"
      ]
     },
     "execution_count": 32,
     "metadata": {},
     "output_type": "execute_result"
    }
   ],
   "source": [
    "import joblib\n",
    "\n",
    "joblib.dump(cv,\"vectorizer.joblib\")\n",
    "joblib.dump(clf, 'logistic_regression_model.joblib')"
   ]
  }
 ],
 "metadata": {
  "kernelspec": {
   "display_name": "Python 3",
   "language": "python",
   "name": "python3"
  },
  "language_info": {
   "codemirror_mode": {
    "name": "ipython",
    "version": 3
   },
   "file_extension": ".py",
   "mimetype": "text/x-python",
   "name": "python",
   "nbconvert_exporter": "python",
   "pygments_lexer": "ipython3",
   "version": "3.11.9"
  }
 },
 "nbformat": 4,
 "nbformat_minor": 2
}
